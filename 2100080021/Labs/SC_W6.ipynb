{
  "nbformat": 4,
  "nbformat_minor": 0,
  "metadata": {
    "colab": {
      "provenance": []
    },
    "kernelspec": {
      "name": "python3",
      "display_name": "Python 3"
    },
    "language_info": {
      "name": "python"
    }
  },
  "cells": [
    {
      "cell_type": "code",
      "execution_count": null,
      "metadata": {
        "id": "kUIzYjyYz7mg"
      },
      "outputs": [],
      "source": [
        "import torch as tc\n",
        "import torch.nn as nn\n",
        "import numpy as np\n",
        "import torch"
      ]
    },
    {
      "cell_type": "code",
      "source": [
        "class MP_Neuron(nn.Module):\n",
        "  def __init__(self, ):\n",
        "    super().__init__()\n",
        "    self.weights=tc.tensor([1, -1])\n",
        "    self.bias = 0\n",
        "    self.threshold = 1\n",
        "\n",
        "  def forward(self, x):\n",
        "    net_input = tc.sum((self.weights*x)) + self.bias\n",
        "    return tc.where(net_input>=self.threshold, tc.tensor(1.0), tc.tensor(0.0))"
      ],
      "metadata": {
        "id": "ZNCa3WDM2XWD"
      },
      "execution_count": null,
      "outputs": []
    },
    {
      "cell_type": "code",
      "source": [
        "data=[\n",
        "    [0, 0],\n",
        "    [0, 1],\n",
        "    [1, 0],\n",
        "    [1, 1]\n",
        "]\n",
        "\n",
        "mp = MP_Neuron()\n",
        "\n",
        "for i in tc.tensor(data):\n",
        "  print(i,mp(i))"
      ],
      "metadata": {
        "colab": {
          "base_uri": "https://localhost:8080/"
        },
        "id": "wb4NJd0c2vdY",
        "outputId": "88567384-1816-442c-b1a0-76e75de5920b"
      },
      "execution_count": null,
      "outputs": [
        {
          "output_type": "stream",
          "name": "stdout",
          "text": [
            "tensor([0, 0]) tensor(0.)\n",
            "tensor([0, 1]) tensor(0.)\n",
            "tensor([1, 0]) tensor(1.)\n",
            "tensor([1, 1]) tensor(0.)\n"
          ]
        }
      ]
    },
    {
      "cell_type": "code",
      "source": [
        "class XOR_N(nn.Module):\n",
        "  def __init__(self, ):\n",
        "    super().__init__()\n",
        "    self.lin1 = nn.Linear(2, 2)\n",
        "    self.sig = nn.Sigmoid()\n",
        "    self.lin2 = nn.Linear(2, 1)\n",
        "  def forward(self, x):\n",
        "    x = self.lin1(x)\n",
        "    x = self.sig(x)\n",
        "    x = self.lin2(x)\n",
        "    return x"
      ],
      "metadata": {
        "id": "Ib148jB8OxxF"
      },
      "execution_count": null,
      "outputs": []
    },
    {
      "cell_type": "code",
      "source": [
        "model = XOR_N()"
      ],
      "metadata": {
        "id": "bkaTLRlaPmkJ"
      },
      "execution_count": null,
      "outputs": []
    },
    {
      "cell_type": "code",
      "source": [
        "epochs = 1000\n",
        "mseloss = nn.MSELoss()\n",
        "optimizer = torch.optim.Adam(model.parameters(), lr = 0.03)"
      ],
      "metadata": {
        "id": "tF76ZqrUQwdq"
      },
      "execution_count": null,
      "outputs": []
    },
    {
      "cell_type": "code",
      "source": [
        "data2=[0,1,1,0]"
      ],
      "metadata": {
        "id": "Lrbzn5euRP6h"
      },
      "execution_count": null,
      "outputs": []
    },
    {
      "cell_type": "code",
      "source": [
        "X = tc.tensor([\n",
        "    [0.0, 0.0],\n",
        "    [0.0, 1.0],\n",
        "    [1.0, 0.0],\n",
        "    [1.0, 1.0]\n",
        "])\n",
        "\n",
        "Y = tc.tensor([0.0,1.0,1.0,0.0]).view(-1,1)"
      ],
      "metadata": {
        "id": "5gerUJaehuxf"
      },
      "execution_count": null,
      "outputs": []
    },
    {
      "cell_type": "code",
      "source": [
        "epochs = 1000\n",
        "\n",
        "for epoch in range(epochs):\n",
        "  for i in range(4):\n",
        "\n",
        "    optimizer.zero_grad()\n",
        "\n",
        "    yhat = model(X[i])\n",
        "\n",
        "    loss = mseloss(yhat, Y[i])\n",
        "\n",
        "    loss.backward()\n",
        "\n",
        "    optimizer.step()\n",
        "\n",
        "    if epoch%100==0:\n",
        "      print(f\"loss = {loss}\")"
      ],
      "metadata": {
        "colab": {
          "base_uri": "https://localhost:8080/"
        },
        "id": "RA6JECRlRAbK",
        "outputId": "3c639f47-870c-4ba0-9178-deed91a9288c"
      },
      "execution_count": null,
      "outputs": [
        {
          "output_type": "stream",
          "name": "stdout",
          "text": [
            "loss = 0.00040913213160820305\n",
            "loss = 1.0244189500808716\n",
            "loss = 0.7066877484321594\n",
            "loss = 0.027497751638293266\n",
            "loss = 0.25197428464889526\n",
            "loss = 0.2807869017124176\n",
            "loss = 0.22387844324111938\n",
            "loss = 0.25392115116119385\n",
            "loss = 0.11142511665821075\n",
            "loss = 0.20093730092048645\n",
            "loss = 0.00245196046307683\n",
            "loss = 0.0555727444589138\n",
            "loss = 0.0007876791059970856\n",
            "loss = 0.00032074260525405407\n",
            "loss = 6.957693130971165e-06\n",
            "loss = 1.0053457799585885e-06\n",
            "loss = 5.931396174219117e-08\n",
            "loss = 2.034443369325345e-08\n",
            "loss = 4.916387297271285e-10\n",
            "loss = 3.197442310920451e-12\n",
            "loss = 2.589928271845565e-12\n",
            "loss = 1.2825296380469808e-12\n",
            "loss = 8.881784197001252e-14\n",
            "loss = 4.3520742565306136e-14\n",
            "loss = 1.566746732351021e-12\n",
            "loss = 9.094947017729282e-13\n",
            "loss = 5.684341886080802e-14\n",
            "loss = 7.993605777301127e-15\n",
            "loss = 1.0267342531733448e-12\n",
            "loss = 5.115907697472721e-13\n",
            "loss = 1.4210854715202004e-14\n",
            "loss = 3.552713678800501e-15\n",
            "loss = 5.551115123125783e-13\n",
            "loss = 3.552713678800501e-13\n",
            "loss = 1.4210854715202004e-14\n",
            "loss = 8.881784197001252e-16\n",
            "loss = 3.206324095117452e-13\n",
            "loss = 2.2737367544323206e-13\n",
            "loss = 1.4210854715202004e-14\n",
            "loss = 3.552713678800501e-15\n"
          ]
        }
      ]
    },
    {
      "cell_type": "code",
      "source": [
        "print(\"{:.10f}\".format(float(model(tc.tensor([0.0,1.0]))[0].detach().numpy())))\n",
        "# print(\"{:.10f}\".format(1.0e-05))\n",
        "# float(tc.tensor(0).numpy())"
      ],
      "metadata": {
        "id": "a-lvXRR1Z9ts"
      },
      "execution_count": null,
      "outputs": []
    }
  ]
}