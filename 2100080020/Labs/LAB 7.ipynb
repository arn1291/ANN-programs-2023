{
  "nbformat": 4,
  "nbformat_minor": 0,
  "metadata": {
    "colab": {
      "provenance": []
    },
    "kernelspec": {
      "name": "python3",
      "display_name": "Python 3"
    },
    "language_info": {
      "name": "python"
    }
  },
  "cells": [
    {
      "cell_type": "code",
      "execution_count": 1,
      "metadata": {
        "id": "X-zU5WJZmkyS"
      },
      "outputs": [],
      "source": [
        "import torch as tc\n",
        "import torch.nn as nn\n",
        "import numpy as np\n",
        "import matplotlib.pyplot as plt"
      ]
    },
    {
      "cell_type": "code",
      "source": [
        "S = [\n",
        "    list(\"++++\"),\n",
        "    list(\"+   \"),\n",
        "    list(\"++++\"),\n",
        "    list(\"   +\"),\n",
        "    list(\"++++\")\n",
        "]\n",
        "\n",
        "C = [\n",
        "    list(\"++++\"),\n",
        "    list(\"+   \"),\n",
        "    list(\"+   \"),\n",
        "    list(\"+   \"),\n",
        "    list(\"++++\")\n",
        "]\n",
        "S= np.array(S)\n",
        "S = tc.tensor(np.where(S==\"+\", 1,-1), dtype=tc.float32)\n",
        "\n",
        "\n",
        "C= np.array(C)\n",
        "C = tc.tensor(np.where(C==\"+\", 1,-1), dtype=tc.float32)\n",
        "\n",
        "\n",
        "target1 = tc.tensor(1.0)\n",
        "target2 = tc.tensor(0.0)"
      ],
      "metadata": {
        "id": "bwhFBW_Pm6Jk"
      },
      "execution_count": 2,
      "outputs": []
    },
    {
      "cell_type": "code",
      "source": [
        "print(S)\n",
        "print(C)"
      ],
      "metadata": {
        "colab": {
          "base_uri": "https://localhost:8080/"
        },
        "id": "NTyQaQclm72W",
        "outputId": "6ec3a08a-8f96-4001-f5ef-94396fb7b76d"
      },
      "execution_count": 3,
      "outputs": [
        {
          "output_type": "stream",
          "name": "stdout",
          "text": [
            "tensor([[ 1.,  1.,  1.,  1.],\n",
            "        [ 1., -1., -1., -1.],\n",
            "        [ 1.,  1.,  1.,  1.],\n",
            "        [-1., -1., -1.,  1.],\n",
            "        [ 1.,  1.,  1.,  1.]])\n",
            "tensor([[ 1.,  1.,  1.,  1.],\n",
            "        [ 1., -1., -1., -1.],\n",
            "        [ 1., -1., -1., -1.],\n",
            "        [ 1., -1., -1., -1.],\n",
            "        [ 1.,  1.,  1.,  1.]])\n"
          ]
        }
      ]
    },
    {
      "cell_type": "code",
      "source": [
        "print(S.flatten())\n",
        "print(C.flatten())"
      ],
      "metadata": {
        "colab": {
          "base_uri": "https://localhost:8080/"
        },
        "id": "3uEpppqFm9oW",
        "outputId": "a26b751e-75d0-402f-89aa-ac72d93193cc"
      },
      "execution_count": 4,
      "outputs": [
        {
          "output_type": "stream",
          "name": "stdout",
          "text": [
            "tensor([ 1.,  1.,  1.,  1.,  1., -1., -1., -1.,  1.,  1.,  1.,  1., -1., -1.,\n",
            "        -1.,  1.,  1.,  1.,  1.,  1.])\n",
            "tensor([ 1.,  1.,  1.,  1.,  1., -1., -1., -1.,  1., -1., -1., -1.,  1., -1.,\n",
            "        -1., -1.,  1.,  1.,  1.,  1.])\n"
          ]
        }
      ]
    },
    {
      "cell_type": "code",
      "source": [
        "class Hebb_Net(nn.Module):\n",
        "  def __init__(self, arr_size=(3, 3)):\n",
        "    super().__init__()\n",
        "    self.len = np.prod(arr_size)\n",
        "    self.weights = tc.zeros(self.len)\n",
        "    self.bias = tc.zeros(1)\n",
        "\n",
        "  def forward(self, data, target):\n",
        "    self.weights.data += data*target\n",
        "    self.bias.data += target\n",
        "\n",
        "    return (data*self.weights)\n"
      ],
      "metadata": {
        "id": "drkplT0Dm_mU"
      },
      "execution_count": 5,
      "outputs": []
    },
    {
      "cell_type": "code",
      "source": [
        "model = Hebb_Net(arr_size=S.shape)\n",
        "\n",
        "model(S.flatten(), 1)\n",
        "model(C.flatten(), -1)\n",
        "\n",
        "model.weights, model.bias"
      ],
      "metadata": {
        "colab": {
          "base_uri": "https://localhost:8080/"
        },
        "id": "ZM1Vv74mnAzH",
        "outputId": "a647e295-b784-4d96-9eb9-4f9666602ad5"
      },
      "execution_count": 6,
      "outputs": [
        {
          "output_type": "execute_result",
          "data": {
            "text/plain": [
              "(tensor([ 0.,  0.,  0.,  0.,  0.,  0.,  0.,  0.,  0.,  2.,  2.,  2., -2.,  0.,\n",
              "          0.,  2.,  0.,  0.,  0.,  0.]),\n",
              " tensor([0.]))"
            ]
          },
          "metadata": {},
          "execution_count": 6
        }
      ]
    }
  ]
}