{
  "nbformat": 4,
  "nbformat_minor": 0,
  "metadata": {
    "colab": {
      "provenance": []
    },
    "kernelspec": {
      "name": "python3",
      "display_name": "Python 3"
    },
    "language_info": {
      "name": "python"
    }
  },
  "cells": [
    {
      "cell_type": "code",
      "execution_count": 1,
      "metadata": {
        "id": "_R5IOvjFkB2p"
      },
      "outputs": [],
      "source": [
        "import torch as tc\n",
        "import torch.nn as nn\n",
        "import numpy as np\n",
        "import torch"
      ]
    },
    {
      "cell_type": "code",
      "source": [
        "class MP_Neuron(nn.Module):\n",
        "  def __init__(self, ):\n",
        "    super().__init__()\n",
        "    self.weights=tc.tensor([1, -1])\n",
        "    self.bias = 0\n",
        "    self.threshold = 1\n",
        "\n",
        "  def forward(self, x):\n",
        "    net_input = tc.sum((self.weights*x)) + self.bias\n",
        "    return tc.where(net_input>=self.threshold, tc.tensor(1.0), tc.tensor(0.0))"
      ],
      "metadata": {
        "id": "d4tZP8jJl6Gy"
      },
      "execution_count": 2,
      "outputs": []
    },
    {
      "cell_type": "code",
      "source": [
        "data=[\n",
        "    [0, 0],\n",
        "    [0, 1],\n",
        "    [1, 0],\n",
        "    [1, 1]\n",
        "]\n",
        "\n",
        "mp = MP_Neuron()\n",
        "\n",
        "for i in tc.tensor(data):\n",
        "  print(i,mp(i))"
      ],
      "metadata": {
        "colab": {
          "base_uri": "https://localhost:8080/"
        },
        "id": "QfHaHzQol9aZ",
        "outputId": "8d03b5fd-635a-4538-80e5-8030de70d7a6"
      },
      "execution_count": 3,
      "outputs": [
        {
          "output_type": "stream",
          "name": "stdout",
          "text": [
            "tensor([0, 0]) tensor(0.)\n",
            "tensor([0, 1]) tensor(0.)\n",
            "tensor([1, 0]) tensor(1.)\n",
            "tensor([1, 1]) tensor(0.)\n"
          ]
        }
      ]
    },
    {
      "cell_type": "code",
      "source": [
        "class XOR_N(nn.Module):\n",
        "  def __init__(self, ):\n",
        "    super().__init__()\n",
        "    self.lin1 = nn.Linear(2, 2)\n",
        "    self.sig = nn.Sigmoid()\n",
        "    self.lin2 = nn.Linear(2, 1)\n",
        "  def forward(self, x):\n",
        "    x = self.lin1(x)\n",
        "    x = self.sig(x)\n",
        "    x = self.lin2(x)\n",
        "    return x"
      ],
      "metadata": {
        "id": "WrTxxOq6mA47"
      },
      "execution_count": 4,
      "outputs": []
    },
    {
      "cell_type": "code",
      "source": [
        "model = XOR_N()"
      ],
      "metadata": {
        "id": "mi_8dPgamCNC"
      },
      "execution_count": 5,
      "outputs": []
    },
    {
      "cell_type": "code",
      "source": [
        "epochs = 1000\n",
        "mseloss = nn.MSELoss()\n",
        "optimizer = torch.optim.Adam(model.parameters(), lr = 0.03)"
      ],
      "metadata": {
        "id": "3TgPsPnsmE-T"
      },
      "execution_count": 6,
      "outputs": []
    },
    {
      "cell_type": "code",
      "source": [
        "data2=[0,1,1,0]"
      ],
      "metadata": {
        "id": "B7R5vI3vmDi8"
      },
      "execution_count": 7,
      "outputs": []
    },
    {
      "cell_type": "code",
      "source": [
        "X = tc.tensor([\n",
        "    [0.0, 0.0],\n",
        "    [0.0, 1.0],\n",
        "    [1.0, 0.0],\n",
        "    [1.0, 1.0]\n",
        "])\n",
        "\n",
        "Y = tc.tensor([0.0,1.0,1.0,0.0]).view(-1,1)"
      ],
      "metadata": {
        "id": "DHnC8azqmN0K"
      },
      "execution_count": 8,
      "outputs": []
    },
    {
      "cell_type": "code",
      "source": [
        "epochs = 1000\n",
        "\n",
        "for epoch in range(epochs):\n",
        "  for i in range(4):\n",
        "\n",
        "    optimizer.zero_grad()\n",
        "\n",
        "    yhat = model(X[i])\n",
        "\n",
        "    loss = mseloss(yhat, Y[i])\n",
        "\n",
        "    loss.backward()\n",
        "\n",
        "    optimizer.step()\n",
        "\n",
        "    if epoch%100==0:\n",
        "      print(f\"loss = {loss}\")"
      ],
      "metadata": {
        "colab": {
          "base_uri": "https://localhost:8080/"
        },
        "id": "aAv0NQMKmSr-",
        "outputId": "e6719a0f-1710-4dad-b9e5-203c14a629a8"
      },
      "execution_count": 9,
      "outputs": [
        {
          "output_type": "stream",
          "name": "stdout",
          "text": [
            "loss = 0.32120999693870544\n",
            "loss = 2.210040330886841\n",
            "loss = 2.1302859783172607\n",
            "loss = 0.14566670358181\n",
            "loss = 0.2279445379972458\n",
            "loss = 0.2839958667755127\n",
            "loss = 0.2149418592453003\n",
            "loss = 0.2627183794975281\n",
            "loss = 0.00044535021879710257\n",
            "loss = 0.2466716170310974\n",
            "loss = 0.0030595664866268635\n",
            "loss = 0.2874130308628082\n",
            "loss = 2.608738941489719e-05\n",
            "loss = 0.2522244155406952\n",
            "loss = 0.00017181693692691624\n",
            "loss = 0.2604823708534241\n",
            "loss = 6.289687917160336e-06\n",
            "loss = 0.2522731125354767\n",
            "loss = 4.188050297670998e-05\n",
            "loss = 0.2562997043132782\n",
            "loss = 2.2932420051802183e-06\n",
            "loss = 0.25225940346717834\n",
            "loss = 1.5500016161240637e-05\n",
            "loss = 0.25470802187919617\n",
            "loss = 1.0206432534687337e-06\n",
            "loss = 0.25225141644477844\n",
            "loss = 6.999892320891377e-06\n",
            "loss = 0.25390005111694336\n",
            "loss = 5.107810920890188e-07\n",
            "loss = 0.2522471249103546\n",
            "loss = 3.5500679587130435e-06\n",
            "loss = 0.25342437624931335\n",
            "loss = 2.7599821805779357e-07\n",
            "loss = 0.2522442936897278\n",
            "loss = 1.941169557539979e-06\n",
            "loss = 0.2531172037124634\n",
            "loss = 1.573225887341323e-07\n",
            "loss = 0.25224196910858154\n",
            "loss = 1.1185702533111908e-06\n",
            "loss = 0.25290632247924805\n"
          ]
        }
      ]
    },
    {
      "cell_type": "code",
      "source": [
        "print(\"{:.10f}\".format(float(model(tc.tensor([0.0,1.0]))[0].detach().numpy())))\n"
      ],
      "metadata": {
        "colab": {
          "base_uri": "https://localhost:8080/"
        },
        "id": "tR-n2D3BmT7T",
        "outputId": "27759399-b935-4606-f130-16e91e29898b"
      },
      "execution_count": 10,
      "outputs": [
        {
          "output_type": "stream",
          "name": "stdout",
          "text": [
            "0.4998581111\n"
          ]
        }
      ]
    }
  ]
}