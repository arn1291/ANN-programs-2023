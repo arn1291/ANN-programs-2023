{
  "nbformat": 4,
  "nbformat_minor": 0,
  "metadata": {
    "colab": {
      "provenance": []
    },
    "kernelspec": {
      "name": "python3",
      "display_name": "Python 3"
    },
    "language_info": {
      "name": "python"
    }
  },
  "cells": [
    {
      "cell_type": "code",
      "execution_count": null,
      "metadata": {
        "id": "kUIzYjyYz7mg"
      },
      "outputs": [],
      "source": [
        "import torch as tc\n",
        "import torch.nn as nn\n",
        "import numpy as np\n",
        "import torch"
      ]
    },
    {
      "cell_type": "code",
      "source": [
        "class MP_Neuron(nn.Module):\n",
        "  def __init__(self, ):\n",
        "    super().__init__()\n",
        "    self.weights=tc.tensor([1, -1])\n",
        "    self.bias = 0\n",
        "    self.threshold = 1\n",
        "\n",
        "  def forward(self, x):\n",
        "    net = tc.sum((self.weights*x)) + self.bias\n",
        "    return tc.where(net>=self.threshold, tc.tensor(1.0), tc.tensor(0.0))\n",
        "data=[\n",
        "    [0, 0],\n",
        "    [0, 1],\n",
        "    [1, 0],\n",
        "    [1, 1]\n",
        "]\n",
        "\n",
        "mp = MP_Neuron()\n",
        "\n",
        "for j in tc.tensor(data):\n",
        "  print(j,mp(j))"
      ],
      "metadata": {
        "id": "ZNCa3WDM2XWD",
        "colab": {
          "base_uri": "https://localhost:8080/"
        },
        "outputId": "b0375e09-a5c6-410d-d5cd-09dcb17cbc07"
      },
      "execution_count": null,
      "outputs": [
        {
          "output_type": "stream",
          "name": "stdout",
          "text": [
            "tensor([0, 0]) tensor(0.)\n",
            "tensor([0, 1]) tensor(0.)\n",
            "tensor([1, 0]) tensor(1.)\n",
            "tensor([1, 1]) tensor(0.)\n"
          ]
        }
      ]
    },
    {
      "cell_type": "code",
      "source": [
        "class XOR_N(nn.Module):\n",
        "  def __init__(self, ):\n",
        "    super().__init__()\n",
        "    self.lin1 = nn.Linear(2, 2)\n",
        "    self.sig = nn.Sigmoid()\n",
        "    self.lin2 = nn.Linear(2, 1)\n",
        "  def forward(self, x):\n",
        "    x = self.lin1(x)\n",
        "    x = self.sig(x)\n",
        "    x = self.lin2(x)\n",
        "    return x\n",
        "model = XOR_N()\n",
        "epochs = 1000\n",
        "mseloss = nn.MSELoss()\n",
        "optimizer = torch.optim.Adam(model.parameters(), lr = 0.03)"
      ],
      "metadata": {
        "id": "Ib148jB8OxxF"
      },
      "execution_count": null,
      "outputs": []
    },
    {
      "cell_type": "code",
      "source": [
        "data2=[0,1,1,0]\n",
        "x = tc.tensor([\n",
        "    [0.0, 0.0],\n",
        "    [0.0, 1.0],\n",
        "    [1.0, 0.0],\n",
        "    [1.0, 1.0]\n",
        "])\n",
        "\n",
        "y = tc.tensor([0.0,1.0,1.0,0.0]).view(-1,1)"
      ],
      "metadata": {
        "id": "5gerUJaehuxf"
      },
      "execution_count": null,
      "outputs": []
    },
    {
      "cell_type": "code",
      "source": [
        "epochs = 1000\n",
        "\n",
        "for epoch in range(epochs):\n",
        "  for i in range(4):\n",
        "\n",
        "    optimizer.zero_grad()\n",
        "\n",
        "    yout = model(x[i])\n",
        "\n",
        "    loss = mseloss(yout, y[i])\n",
        "\n",
        "    loss.backward()\n",
        "\n",
        "    optimizer.step()\n",
        "\n",
        "    if epoch%100==0:\n",
        "      print(f\"loss = {loss}\")"
      ],
      "metadata": {
        "colab": {
          "base_uri": "https://localhost:8080/"
        },
        "id": "RA6JECRlRAbK",
        "outputId": "fd01e5ee-fde3-4c61-cdfc-7b4faadbbacc"
      },
      "execution_count": null,
      "outputs": [
        {
          "output_type": "stream",
          "name": "stdout",
          "text": [
            "loss = 1.0746958878371515e-13\n",
            "loss = 1.7408297026122455e-13\n",
            "loss = 2.2737367544323206e-13\n",
            "loss = 1.2789769243681803e-13\n",
            "loss = 5.863365348801608e-14\n",
            "loss = 8.881784197001252e-14\n",
            "loss = 5.684341886080802e-14\n",
            "loss = 7.599476603559197e-14\n",
            "loss = 2.936539900133539e-14\n",
            "loss = 3.197442310920451e-14\n",
            "loss = 3.197442310920451e-14\n",
            "loss = 2.8102520310824275e-14\n",
            "loss = 3.197442310920451e-14\n",
            "loss = 3.197442310920451e-14\n",
            "loss = 3.197442310920451e-14\n",
            "loss = 3.197442310920451e-14\n",
            "loss = 1.0116907311896739e-14\n",
            "loss = 1.4210854715202004e-14\n",
            "loss = 1.4210854715202004e-14\n",
            "loss = 1.700029006457271e-14\n",
            "loss = 1.0116907311896739e-14\n",
            "loss = 1.4210854715202004e-14\n",
            "loss = 1.4210854715202004e-14\n",
            "loss = 1.7985612998927536e-14\n",
            "loss = 1.3336554083309693e-14\n",
            "loss = 3.197442310920451e-14\n",
            "loss = 5.684341886080802e-14\n",
            "loss = 2.7200464103316335e-15\n",
            "loss = 5.551115123125783e-17\n",
            "loss = 0.0\n",
            "loss = 0.0\n",
            "loss = 5.551115123125783e-17\n",
            "loss = 5.551115123125783e-17\n",
            "loss = 0.0\n",
            "loss = 0.0\n",
            "loss = 5.551115123125783e-17\n",
            "loss = 5.551115123125783e-17\n",
            "loss = 0.0\n",
            "loss = 0.0\n",
            "loss = 5.551115123125783e-17\n"
          ]
        }
      ]
    },
    {
      "cell_type": "code",
      "source": [
        "print(\"{:.10f}\".format(float(model(tc.tensor([0.0,1.0]))[0].detach().numpy())))\n",
        "# print(\"{:.10f}\".format(1.0e-05))\n",
        "# float(tc.tensor(0).numpy())"
      ],
      "metadata": {
        "id": "a-lvXRR1Z9ts",
        "colab": {
          "base_uri": "https://localhost:8080/"
        },
        "outputId": "f232b5bc-9385-4c29-8333-188149674b80"
      },
      "execution_count": null,
      "outputs": [
        {
          "output_type": "stream",
          "name": "stdout",
          "text": [
            "0.9999997020\n"
          ]
        }
      ]
    }
  ]
}