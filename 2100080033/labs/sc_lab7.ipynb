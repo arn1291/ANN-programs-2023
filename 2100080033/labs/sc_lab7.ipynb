{
  "nbformat": 4,
  "nbformat_minor": 0,
  "metadata": {
    "colab": {
      "provenance": []
    },
    "kernelspec": {
      "name": "python3",
      "display_name": "Python 3"
    },
    "language_info": {
      "name": "python"
    }
  },
  "cells": [
    {
      "cell_type": "code",
      "execution_count": null,
      "metadata": {
        "id": "a9spbOj0elc1"
      },
      "outputs": [],
      "source": [
        "import torch as tc\n",
        "import torch.nn as nn\n",
        "import numpy as np\n",
        "import matplotlib.pyplot as plt"
      ]
    },
    {
      "cell_type": "code",
      "source": [
        "a = [\n",
        "    list(\"++++\"),\n",
        "    list(\"+   \"),\n",
        "    list(\"++++\"),\n",
        "    list(\"   +\"),\n",
        "    list(\"++++\")\n",
        "]\n",
        "\n",
        "b = [\n",
        "    list(\"++++\"),\n",
        "    list(\"+   \"),\n",
        "    list(\"+   \"),\n",
        "    list(\"+   \"),\n",
        "    list(\"++++\")\n",
        "]\n",
        "\n",
        "a = np.array(a)\n",
        "a = tc.tensor(np.where(a == \"+\", 1, -1), dtype=tc.float32)\n",
        "\n",
        "b = np.array(b)\n",
        "b = tc.tensor(np.where(b == \"+\", 1, -1), dtype=tc.float32)\n",
        "\n",
        "t1 = tc.tensor(1.0)\n",
        "t2 = tc.tensor(0.0)\n",
        "print(a)\n",
        "print(b)"
      ],
      "metadata": {
        "id": "-dFIAMyyetdx",
        "colab": {
          "base_uri": "https://localhost:8080/"
        },
        "outputId": "e6793400-23cb-4311-cef1-f5c4ad97d677"
      },
      "execution_count": null,
      "outputs": [
        {
          "output_type": "stream",
          "name": "stdout",
          "text": [
            "tensor([[ 1.,  1.,  1.,  1.],\n",
            "        [ 1., -1., -1., -1.],\n",
            "        [ 1.,  1.,  1.,  1.],\n",
            "        [-1., -1., -1.,  1.],\n",
            "        [ 1.,  1.,  1.,  1.]])\n",
            "tensor([[ 1.,  1.,  1.,  1.],\n",
            "        [ 1., -1., -1., -1.],\n",
            "        [ 1., -1., -1., -1.],\n",
            "        [ 1., -1., -1., -1.],\n",
            "        [ 1.,  1.,  1.,  1.]])\n"
          ]
        }
      ]
    },
    {
      "cell_type": "code",
      "source": [
        "print(a.flatten())\n",
        "print(b.flatten())"
      ],
      "metadata": {
        "colab": {
          "base_uri": "https://localhost:8080/"
        },
        "id": "J14kmmOAfFuG",
        "outputId": "a0274cac-d149-490c-85d6-3837cae6015d"
      },
      "execution_count": null,
      "outputs": [
        {
          "output_type": "stream",
          "name": "stdout",
          "text": [
            "tensor([ 1.,  1.,  1.,  1.,  1., -1., -1., -1.,  1.,  1.,  1.,  1., -1., -1.,\n",
            "        -1.,  1.,  1.,  1.,  1.,  1.])\n",
            "tensor([ 1.,  1.,  1.,  1.,  1., -1., -1., -1.,  1., -1., -1., -1.,  1., -1.,\n",
            "        -1., -1.,  1.,  1.,  1.,  1.])\n"
          ]
        }
      ]
    },
    {
      "cell_type": "code",
      "source": [
        "class HebbsRule(nn.Module):\n",
        "  def __init__(self, arr_size=(3, 3)):\n",
        "    super().__init__()\n",
        "    self.len = np.prod(arr_size)\n",
        "    self.weights = tc.zeros(self.len)\n",
        "    self.bias = tc.zeros(1)\n",
        "\n",
        "  def forward(self, data, target):\n",
        "    self.weights.data += data*target\n",
        "    self.bias.data += target\n",
        "\n",
        "    return (data*self.weights)\n",
        "model = HebbsRule(arr_size=a.shape)\n",
        "\n",
        "model(a.flatten(), 1)\n",
        "model(b.flatten(), -1)\n",
        "\n",
        "model.weights, model.bias"
      ],
      "metadata": {
        "id": "aEcl_hSKfd_v",
        "colab": {
          "base_uri": "https://localhost:8080/"
        },
        "outputId": "b25e6815-b888-4222-d26d-ab09e9fe756b"
      },
      "execution_count": null,
      "outputs": [
        {
          "output_type": "execute_result",
          "data": {
            "text/plain": [
              "(tensor([ 0.,  0.,  0.,  0.,  0.,  0.,  0.,  0.,  0.,  2.,  2.,  2., -2.,  0.,\n",
              "          0.,  2.,  0.,  0.,  0.,  0.]),\n",
              " tensor([0.]))"
            ]
          },
          "metadata": {},
          "execution_count": 5
        }
      ]
    }
  ]
}